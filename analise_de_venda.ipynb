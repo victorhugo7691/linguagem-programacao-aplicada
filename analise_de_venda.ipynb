{
  "nbformat": 4,
  "nbformat_minor": 0,
  "metadata": {
    "colab": {
      "provenance": []
    },
    "kernelspec": {
      "name": "python3",
      "display_name": "Python 3"
    },
    "language_info": {
      "name": "python"
    }
  },
  "cells": [
    {
      "cell_type": "code",
      "execution_count": null,
      "metadata": {
        "id": "-Mc21hRKkR5n"
      },
      "outputs": [],
      "source": [
        "import numpy as np\n",
        "# Dados fornecidos\n",
        "categorias = np.array(['Eletrônico', 'Vestuário', 'Alimento',\n",
        "'Vestuário', 'Eletrônico', 'Alimento'])\n",
        "# Quantidade de produtos vendidos\n",
        "vendas = np.array([50, 100, 150, 80, 30, 200])\n",
        "# Preço por unidade em R$\n",
        "precos = np.array([1000, 150, 10, 80, 1500, 5])\n",
        "nDeElementos = len(categorias)"
      ]
    },
    {
      "cell_type": "code",
      "source": [
        "# 1 - Análise de venda\n",
        "\n",
        "faturamento = vendas * precos\n",
        "\n",
        "for i in range(nDeElementos):\n",
        "  print(f\"O produto {categorias[i]} possui valor de {faturamento[i]:.2f}\")\n",
        "\n",
        "print(f\"A categoria com o maior valor é: {categorias[np.argmax(faturamento)]}\")"
      ],
      "metadata": {
        "colab": {
          "base_uri": "https://localhost:8080/"
        },
        "id": "WS8dH4f_k1uD",
        "outputId": "09f233c7-5a9f-4a6b-8c54-0a952c05e2cc"
      },
      "execution_count": null,
      "outputs": [
        {
          "output_type": "stream",
          "name": "stdout",
          "text": [
            "O produto Eletrônico possui valor de 50000.00\n",
            "O produto Vestuário possui valor de 15000.00\n",
            "O produto Alimento possui valor de 1500.00\n",
            "O produto Vestuário possui valor de 6400.00\n",
            "O produto Eletrônico possui valor de 45000.00\n",
            "O produto Alimento possui valor de 1000.00\n",
            "A categoria com o maior valor é: Eletrônico\n"
          ]
        }
      ]
    },
    {
      "cell_type": "code",
      "source": [
        "# 2 - Manipulação de arrays e análise\n",
        "\n",
        "eletronico = precos[categorias == 'Eletrônico']\n",
        "vestuario = precos[categorias == 'Vestuário']\n",
        "\n",
        "print(f\"Preço médio da categoria Eletrônico é R${eletronico.mean():2f}.\")\n",
        "print(f\"Preço médio da categoria Vestuário é R${vestuario.mean():.2f}.\")\n",
        "\n",
        "acimaDe100 = vendas > 100\n",
        "\n",
        "for i in range(len(acimaDe100)):\n",
        "    if acimaDe100[i]:\n",
        "        print(f\"Produto {i+1}\")\n"
      ],
      "metadata": {
        "id": "0ns0jV99npEL",
        "colab": {
          "base_uri": "https://localhost:8080/"
        },
        "outputId": "6cc808b8-1c78-415d-b062-3a6ba75bbf3b"
      },
      "execution_count": null,
      "outputs": [
        {
          "output_type": "stream",
          "name": "stdout",
          "text": [
            "PReço médio da categoria Eletrônico é R$1250.000000.\n",
            "Preço médio da categoria Vestuário é R$115.00.\n",
            "Produto 3\n",
            "Produto 6\n"
          ]
        }
      ]
    },
    {
      "cell_type": "code",
      "source": [
        "# 3 - REshape e Exportação\n",
        "\n",
        "dados = np.vstack((categorias, vendas, precos, faturamento))\n",
        "dados = dados.T\n",
        "\n",
        "np.savetxt('vendas.csv', dados, delimiter=',', header='Categoria,Vendas,Preço,Faturamento', fmt='%s')\n",
        "\n",
        "print(\"Os dados salvos!\")"
      ],
      "metadata": {
        "colab": {
          "base_uri": "https://localhost:8080/"
        },
        "id": "lm8Mi6j1976m",
        "outputId": "cdcb533e-80f5-4740-8728-19a8dc5f81d9"
      },
      "execution_count": null,
      "outputs": [
        {
          "output_type": "stream",
          "name": "stdout",
          "text": [
            "Os dados salvos!\n"
          ]
        }
      ]
    }
  ]
}